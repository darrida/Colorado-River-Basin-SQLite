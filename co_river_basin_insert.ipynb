{
 "cells": [
  {
   "cell_type": "code",
   "execution_count": 14,
   "metadata": {},
   "outputs": [],
   "source": [
    "import pandas as pd\n",
    "import sqlalchemy\n",
    "import sqlite3\n",
    "from IPython.core.debugger import set_trace\n",
    "import sys\n",
    "\n",
    "df_co_river_basin = pd.read_excel('Final_WWIS_UC_Event_Database.xls')\n",
    "\n",
    "# USED TO VISUALIZE CURRENT COLUMN NAMES\n",
    "#for col in df_co_river_basin.columns: \n",
    "#    print(col)\n",
    "\n",
    "# PANDAS FUNCTION THAT RENAMES DATAFRAME COLUMNS\n",
    "df_co_river_basin.rename(columns={'Search Source':'SearchSource',\n",
    "                                  'Article Citation': 'ArticleCitation',\n",
    "                                  'Article Title': 'ArticleTitle',\n",
    "                                  'Report Date':'ReportDate',\n",
    "                                  'Report Year':'ReportYear',\n",
    "                                  'Event date':'Eventdate',\n",
    "                                  'Event Year':'EventYear',\n",
    "                                  'Locater/ Water Body':'LocatorWaterBody',\n",
    "                                  'Issue Type':'IssueType',\n",
    "                                  'Event Summary':'EventSummary',\n",
    "                                  'Intensity Value':'IntensityValue',\n",
    "                                  'Water Title':'WaterTitle'}, inplace=True)\n",
    "\n",
    "# USED TO VISUALIZE COLUMN NAME CHANGES\n",
    "#print('\\nFIXED NAMES:')    \n",
    "#for col in df_co_river_basin.columns: \n",
    "#    print(col)\n",
    "\n",
    "# USED TO SEE SAMPLE OF THE DATAFRAME\n",
    "#df_co_river_basin"
   ]
  },
  {
   "cell_type": "code",
   "execution_count": 15,
   "metadata": {},
   "outputs": [],
   "source": [
    "# GENERAL FORMATTING ESCAPE LINE I INCLUDE IN MOST DATAFRAMES TO INSTERT INTO DATABASES\n",
    "df_co_river_basin = df_co_river_basin.applymap(lambda x: x.encode('unicode_escape').decode('utf-8') if isinstance(x, str) else x)\n",
    "\n",
    "# REMOVE EMPTY ROWS\n",
    "df_co_river_basin = df_co_river_basin[pd.notnull(df_co_river_basin['Event'])]"
   ]
  },
  {
   "cell_type": "code",
   "execution_count": 17,
   "metadata": {},
   "outputs": [
    {
     "name": "stdout",
     "output_type": "stream",
     "text": [
      "Processed: 5036.0| FINISHED"
     ]
    }
   ],
   "source": [
    "# CONNECTION TO LOCAL SQLITE DATABASE\n",
    "conn = sqlite3.connect('C:\\\\sqlite\\\\databases\\\\waterdb\\\\waterdb.db')\n",
    "c = conn.cursor()\n",
    "\n",
    "# LOOP THROUGH DATAFRAME AND INSERT INTO SQLITE DB\n",
    "# Note: this isn't very clean - I worked with the values section until it took everything. If I did this again, I'd probably run the 'replace' procedure across the dataframe futher above.\n",
    "for i, row in enumerate(df_co_river_basin.itertuples(), 1):\n",
    "    testEvent = pd.read_sql(\"SELECT Event FROM CO_River_Basin WHERE Event = \" + str(row.Event), conn)\n",
    "    if testEvent.empty == True:\n",
    "        try:\n",
    "            c.execute(\"\"\"INSERT INTO CO_River_Basin\n",
    "                        (Event,\n",
    "                         SearchSource,\n",
    "                         Newspaper,\n",
    "                         ArticleCitation,\n",
    "                         ArticleTitle,\n",
    "                         File,\n",
    "                         ReportDate,\n",
    "                         ReportYear,\n",
    "                         Eventdate,\n",
    "                         EventYear,\n",
    "                         Basin,\n",
    "                         LocatorWaterBody,\n",
    "                         IssueType,\n",
    "                         EventSummary,\n",
    "                         Stakeholders,\n",
    "                         IntensityValue,\n",
    "                         WaterTitle,\n",
    "                         Comments)\n",
    "                    VALUES\n",
    "                        ('\"\"\" + str(row.Event) + \"\"\"',\n",
    "                         '\"\"\" + str(row.SearchSource).replace(\"'\",\"\\u2018\") + \"\"\"',\n",
    "                         '\"\"\" + str(row.Newspaper).replace(\"'\",\"\\u2018\") + \"\"\"',\n",
    "                         '\"\"\" + str(row.ArticleCitation).replace(\"'\",\"\\u2018\") + \"\"\"',\n",
    "                         '\"\"\" + str(row.ArticleTitle).replace(\"'\",\"\\u2018\") + \"\"\"',\n",
    "                         '\"\"\" + str(row.File) + \"\"\"',\n",
    "                         '\"\"\" + str(str(row.ReportDate)[0:10]) + \"\"\"',\n",
    "                         '\"\"\" + str(row.ReportYear).replace(\"'\",\"\\u2018\") + \"\"\"',\n",
    "                         '\"\"\" + str(row.Eventdate).replace(\"'\",\"\\u2018\") + \"\"\"',\n",
    "                         '\"\"\" + str(row.EventYear).replace(\"'\",\"\\u2018\") + \"\"\"',\n",
    "                         '\"\"\" + str(row.Basin).replace(\"'\",\"\\u2018\") + \"\"\"',\n",
    "                         '\"\"\" + str(row.LocatorWaterBody).replace(\"'\",\"\\u2018\") + \"\"\"',\n",
    "                         '\"\"\" + str(row.IssueType).replace(\"'\",\"\\u2018\") + \"\"\"',\n",
    "                         '\"\"\" + str(row.EventSummary).replace(\"'\",\"\\u2018\") + \"\"\"',\n",
    "                         '\"\"\" + str(row.Stakeholders).replace(\"'\",\"\\u2018\") + \"\"\"',\n",
    "                         '\"\"\" + str(row.IntensityValue) + \"\"\"',\n",
    "                         '\"\"\" + str(row.WaterTitle).replace(\"'\",\"\\u2018\") + \"\"\"',\n",
    "                         '\"\"\" + str(row.Comments) + \"\"\"')\"\"\")\n",
    "            sys.stdout.write('\\r' + 'Processed: ' + str(row.Event))\n",
    "            conn.commit()\n",
    "        except Exception as e:\n",
    "            print(row)\n",
    "            print('ERROR: ' + repr(e))\n",
    "            set_trace()\n",
    "        sys.stdout.write('\\r' + 'Processed: ' + str(row.Event))\n",
    "    else:\n",
    "        sys.stdout.write('\\r' + 'Processed: ' + str(row.Event))        \n",
    "sys.stdout.write('\\r' + 'Processed: ' + str(row.Event) + \"| FINISHED\")"
   ]
  }
 ],
 "metadata": {
  "kernelspec": {
   "display_name": "Python 3",
   "language": "python",
   "name": "python3"
  },
  "language_info": {
   "codemirror_mode": {
    "name": "ipython",
    "version": 3
   },
   "file_extension": ".py",
   "mimetype": "text/x-python",
   "name": "python",
   "nbconvert_exporter": "python",
   "pygments_lexer": "ipython3",
   "version": "3.7.3"
  }
 },
 "nbformat": 4,
 "nbformat_minor": 2
}
